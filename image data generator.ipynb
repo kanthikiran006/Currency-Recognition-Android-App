{
 "cells": [
  {
   "cell_type": "markdown",
   "id": "22f19aa8",
   "metadata": {},
   "source": [
    "### resize image\n"
   ]
  },
  {
   "cell_type": "code",
   "execution_count": 47,
   "id": "7fd2f1fe",
   "metadata": {},
   "outputs": [],
   "source": [
    "import os\n",
    "import cv2\n",
    "os.chdir(\"D:/project\")\n",
    "img =cv2.imread('rupees/10/34.jpg')"
   ]
  },
  {
   "cell_type": "code",
   "execution_count": 48,
   "id": "b75c386a",
   "metadata": {},
   "outputs": [],
   "source": [
    "cv2.imshow('img',img)\n",
    "cv2.waitKey(6000)\n",
    "cv2.destroyAllWindows()"
   ]
  },
  {
   "cell_type": "code",
   "execution_count": 49,
   "id": "a70c874a",
   "metadata": {},
   "outputs": [],
   "source": [
    "resize=cv2.resize(img,(256,256),interpolation=cv2.INTER_AREA)"
   ]
  },
  {
   "cell_type": "code",
   "execution_count": 50,
   "id": "e2bf53f8",
   "metadata": {},
   "outputs": [],
   "source": [
    "cv2.imshow('res',resize)\n",
    "cv2.waitKey(2000)\n",
    "cv2.destroyAllWindows()"
   ]
  },
  {
   "cell_type": "code",
   "execution_count": 51,
   "id": "6523d609",
   "metadata": {},
   "outputs": [
    {
     "data": {
      "text/plain": [
       "True"
      ]
     },
     "execution_count": 51,
     "metadata": {},
     "output_type": "execute_result"
    }
   ],
   "source": [
    " cv2.imwrite(\"img.jpg\",resize)"
   ]
  },
  {
   "cell_type": "code",
   "execution_count": 52,
   "id": "4f4b93da",
   "metadata": {},
   "outputs": [],
   "source": [
    "for i in range(1,51):\n",
    "    n=str(i)\n",
    "    img=cv2.imread('rupees/10/'+n+'.jpg')\n",
    "    resize=cv2.resize(img,(1028,1028),interpolation=cv2.INTER_AREA)\n",
    "    cv2.imwrite(\"rupees/Resized 10/\"+n+\".jpg\",resize)"
   ]
  },
  {
   "cell_type": "markdown",
   "id": "b4be56c9",
   "metadata": {},
   "source": [
    "#Image Data Generation"
   ]
  },
  {
   "cell_type": "code",
   "execution_count": 53,
   "id": "d14ac03c",
   "metadata": {},
   "outputs": [],
   "source": [
    "from keras.preprocessing.image import ImageDataGenerator, array_to_img, img_to_array, load_img"
   ]
  },
  {
   "cell_type": "code",
   "execution_count": 54,
   "id": "14f7cc99",
   "metadata": {},
   "outputs": [],
   "source": [
    " datagen = ImageDataGenerator(rotation_range=40,width_shift_range=0.1,\n",
    "                            height_shift_range=0.1,shear_range=0.2,\n",
    "                            zoom_range=0.2,horizontal_flip=False,\n",
    "                            fill_mode='nearest')"
   ]
  },
  {
   "cell_type": "code",
   "execution_count": 55,
   "id": "f7543a14",
   "metadata": {},
   "outputs": [],
   "source": [
    "def img_gene(img):\n",
    "    img = load_img(img)\n",
    "    x = img_to_array(img)\n",
    "    x = x.reshape((1,) + x.shape)\n",
    "    i = 0\n",
    "    for batch in datagen.flow(x, batch_size=1,save_to_dir='rupees/10',\n",
    "                              save_prefix='10', save_format='jpg'):\n",
    "        i+= 1\n",
    "        if i > 20:\n",
    "            break"
   ]
  },
  {
   "cell_type": "code",
   "execution_count": 56,
   "id": "b229cf9a",
   "metadata": {},
   "outputs": [],
   "source": [
    "for p in range(1,51):\n",
    "    num=str(p)\n",
    "    img=\"rupees/Resized 10/\"+num+\".jpg\"\n",
    "    img_gene(img)"
   ]
  },
  {
   "cell_type": "code",
   "execution_count": null,
   "id": "c38d97f0",
   "metadata": {},
   "outputs": [],
   "source": []
  }
 ],
 "metadata": {
  "kernelspec": {
   "display_name": "Python 3 (ipykernel)",
   "language": "python",
   "name": "python3"
  },
  "language_info": {
   "codemirror_mode": {
    "name": "ipython",
    "version": 3
   },
   "file_extension": ".py",
   "mimetype": "text/x-python",
   "name": "python",
   "nbconvert_exporter": "python",
   "pygments_lexer": "ipython3",
   "version": "3.9.7"
  }
 },
 "nbformat": 4,
 "nbformat_minor": 5
}
